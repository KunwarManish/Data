{
 "cells": [
  {
   "cell_type": "code",
   "execution_count": 1,
   "id": "a75578db-7225-4891-b5fa-c97ef5904b4e",
   "metadata": {},
   "outputs": [
    {
     "name": "stdout",
     "output_type": "stream",
     "text": [
      "Hello Simplilearn\n"
     ]
    }
   ],
   "source": [
    "hello = \"Hello Simplilearn\"\n",
    "print(hello)"
   ]
  },
  {
   "cell_type": "code",
   "execution_count": 2,
   "id": "7fe7a35e-489b-41b7-9a87-92aaeeabb4c7",
   "metadata": {},
   "outputs": [
    {
     "name": "stdout",
     "output_type": "stream",
     "text": [
      "Hello Simplilearn\n"
     ]
    }
   ],
   "source": [
    "print(hello)"
   ]
  },
  {
   "cell_type": "code",
   "execution_count": 3,
   "id": "545a42d4-8020-4d7d-92e5-f93800204345",
   "metadata": {},
   "outputs": [
    {
     "name": "stdin",
     "output_type": "stream",
     "text": [
      "Enter your name  MK\n"
     ]
    },
    {
     "name": "stdout",
     "output_type": "stream",
     "text": [
      "hi MK\n"
     ]
    }
   ],
   "source": [
    "name = input(\"Enter your name \")\n",
    "print(\"hi\", name)             "
   ]
  },
  {
   "cell_type": "code",
   "execution_count": 4,
   "id": "57e3aa9c-06cf-4f68-89f8-981333cc6498",
   "metadata": {},
   "outputs": [
    {
     "name": "stdout",
     "output_type": "stream",
     "text": [
      "Hope to see you in class soon.\n"
     ]
    }
   ],
   "source": [
    "print(\"Hope to see you in class soon.\")"
   ]
  },
  {
   "cell_type": "markdown",
   "id": "7295ddea-9983-47e7-8ee7-8d55de688187",
   "metadata": {},
   "source": [
    "this is a title \n",
    "\n",
    "# this a bigger title"
   ]
  },
  {
   "cell_type": "code",
   "execution_count": 5,
   "id": "b39cb4c1-a035-4e3c-8407-8ffff78479da",
   "metadata": {},
   "outputs": [
    {
     "data": {
      "image/png": "[encoded data removed]",
      "text/plain": [
       "<Figure size 432x288 with 1 Axes>"
      ]
     },
     "metadata": {
      "needs_background": "light"
     },
     "output_type": "display_data"
    }
   ],
   "source": [
    "import matplotlib.pyplot as plt\n",
    "plt.plot([1,2,3,4], [1,2,3,4])\n",
    "plt.show()"
   ]
  },
  {
   "cell_type": "markdown",
   "id": "0008dcb2-684d-4856-9d5d-9c7242d5aeff",
   "metadata": {},
   "source": [
    "# welcome to my simple graph"
   ]
  },
  {
   "cell_type": "code",
   "execution_count": 7,
   "id": "7560aa6e-5d1d-463a-b30f-0645ae121783",
   "metadata": {},
   "outputs": [
    {
     "data": {
      "image/png": "[encoded data removed]",
      "text/plain": [
       "<Figure size 432x288 with 1 Axes>"
      ]
     },
     "metadata": {
      "needs_background": "light"
     },
     "output_type": "display_data"
    }
   ],
   "source": [
    "plt.plot([1,2,3,4], [1,2,3,4])\n",
    "plt.show()"
   ]
  },
  {
   "cell_type": "markdown",
   "id": "6e05a070-a5b7-434e-91af-8cde8cf399ca",
   "metadata": {},
   "source": [
    "# Python variable"
   ]
  },
  {
   "cell_type": "markdown",
   "id": "0b99b4bf-11c3-4b9c-96f2-0a22e96f7343",
   "metadata": {},
   "source": [
    "## What is a variable?\n",
    "Variables are entities of a program that hold a value."
   ]
  },
  {
   "cell_type": "code",
   "execution_count": 1,
   "id": "b09b0c07-74ec-46ba-86f0-8e9e88b29ab0",
   "metadata": {},
   "outputs": [],
   "source": [
    "x = 100"
   ]
  },
  {
   "cell_type": "code",
   "execution_count": 2,
   "id": "3762a5cc-9f2f-40c3-9416-34ee623ee2d7",
   "metadata": {},
   "outputs": [
    {
     "data": {
      "text/plain": [
       "int"
      ]
     },
     "execution_count": 2,
     "metadata": {},
     "output_type": "execute_result"
    }
   ],
   "source": [
    "type(x)"
   ]
  },
  {
   "cell_type": "code",
   "execution_count": 4,
   "id": "3439ed49-0bce-44ca-bcf5-6530c4f2db58",
   "metadata": {},
   "outputs": [
    {
     "data": {
      "text/plain": [
       "int"
      ]
     },
     "execution_count": 4,
     "metadata": {},
     "output_type": "execute_result"
    }
   ],
   "source": [
    "x = 65*6734\n",
    "type(x)"
   ]
  },
  {
   "cell_type": "code",
   "execution_count": 5,
   "id": "ae6e12a8-0484-4817-8d88-ad0ee972e1a3",
   "metadata": {},
   "outputs": [
    {
     "name": "stdout",
     "output_type": "stream",
     "text": [
      "437710\n"
     ]
    }
   ],
   "source": [
    "print(x)"
   ]
  },
  {
   "cell_type": "code",
   "execution_count": 6,
   "id": "fe813d00-46a2-4e76-ac79-f004b3a86d16",
   "metadata": {},
   "outputs": [],
   "source": [
    "x = 3.14"
   ]
  },
  {
   "cell_type": "code",
   "execution_count": 7,
   "id": "f7577770-e575-4a2f-aaf0-9ae20a26314c",
   "metadata": {},
   "outputs": [
    {
     "name": "stdout",
     "output_type": "stream",
     "text": [
      "3.14\n"
     ]
    }
   ],
   "source": [
    "print(x)"
   ]
  },
  {
   "cell_type": "code",
   "execution_count": 8,
   "id": "0ed2eefb-c754-4b6b-97d9-69c7706aa63b",
   "metadata": {},
   "outputs": [
    {
     "data": {
      "text/plain": [
       "float"
      ]
     },
     "execution_count": 8,
     "metadata": {},
     "output_type": "execute_result"
    }
   ],
   "source": [
    "type(x)"
   ]
  },
  {
   "cell_type": "code",
   "execution_count": 9,
   "id": "aa62b225-1f81-4d97-a75e-783efd60e18c",
   "metadata": {},
   "outputs": [],
   "source": [
    "x = \"Simplilearn\""
   ]
  },
  {
   "cell_type": "code",
   "execution_count": 10,
   "id": "a88160b4-96dd-4675-99aa-b9fbee70f5cc",
   "metadata": {},
   "outputs": [
    {
     "name": "stdout",
     "output_type": "stream",
     "text": [
      "Simplilearn\n"
     ]
    }
   ],
   "source": [
    "print(x)"
   ]
  },
  {
   "cell_type": "code",
   "execution_count": 11,
   "id": "f32c20ac-7abd-49c3-86e3-6dfa5ea53998",
   "metadata": {},
   "outputs": [
    {
     "name": "stdout",
     "output_type": "stream",
     "text": [
      "Simplilear\n"
     ]
    }
   ],
   "source": [
    "x = 'Simplilear'\n",
    "print(x)"
   ]
  },
  {
   "cell_type": "code",
   "execution_count": 12,
   "id": "617f5d06-0e1e-45d0-93ad-8b4f1d6d2947",
   "metadata": {},
   "outputs": [
    {
     "data": {
      "text/plain": [
       "str"
      ]
     },
     "execution_count": 12,
     "metadata": {},
     "output_type": "execute_result"
    }
   ],
   "source": [
    "type(x)"
   ]
  },
  {
   "cell_type": "markdown",
   "id": "159bbc23-3cde-4a58-a230-d7f36a742ed0",
   "metadata": {},
   "source": [
    "### List"
   ]
  },
  {
   "cell_type": "code",
   "execution_count": 13,
   "id": "c12fe9ae-96f6-48c6-b15d-078793c7ea43",
   "metadata": {},
   "outputs": [],
   "source": [
    "x = [14,67,9]"
   ]
  },
  {
   "cell_type": "code",
   "execution_count": 14,
   "id": "508d7e52-680b-4211-9eac-4477d6004a67",
   "metadata": {},
   "outputs": [
    {
     "name": "stdout",
     "output_type": "stream",
     "text": [
      "[14, 67, 9]\n"
     ]
    }
   ],
   "source": [
    "print(x)"
   ]
  },
  {
   "cell_type": "code",
   "execution_count": 15,
   "id": "0827c8a2-d480-404d-8d47-1c20c171b9f6",
   "metadata": {},
   "outputs": [
    {
     "data": {
      "text/plain": [
       "list"
      ]
     },
     "execution_count": 15,
     "metadata": {},
     "output_type": "execute_result"
    }
   ],
   "source": [
    "type(x)"
   ]
  },
  {
   "cell_type": "code",
   "execution_count": 16,
   "id": "0e6606b7-5a74-4516-9ba3-649036b88387",
   "metadata": {},
   "outputs": [
    {
     "name": "stdout",
     "output_type": "stream",
     "text": [
      "14\n"
     ]
    }
   ],
   "source": [
    "print(x[0])"
   ]
  },
  {
   "cell_type": "code",
   "execution_count": 17,
   "id": "f24880c1-a3e4-41c3-a880-633e00cae649",
   "metadata": {},
   "outputs": [
    {
     "name": "stdout",
     "output_type": "stream",
     "text": [
      "9\n"
     ]
    }
   ],
   "source": [
    "print(x[2])"
   ]
  },
  {
   "cell_type": "code",
   "execution_count": 18,
   "id": "34350726-9d1d-4da7-b5f2-9af53e45eefc",
   "metadata": {},
   "outputs": [],
   "source": [
    "x[2] = 67"
   ]
  },
  {
   "cell_type": "code",
   "execution_count": 19,
   "id": "8d9bb9cc-73f7-4f06-9182-f2f4f3394f6b",
   "metadata": {},
   "outputs": [
    {
     "name": "stdout",
     "output_type": "stream",
     "text": [
      "[14, 67, 67]\n"
     ]
    }
   ],
   "source": [
    "print(x)"
   ]
  },
  {
   "cell_type": "markdown",
   "id": "66b8d4fc-5c31-448b-afc2-124728886040",
   "metadata": {},
   "source": [
    "### Tuple"
   ]
  },
  {
   "cell_type": "code",
   "execution_count": 20,
   "id": "09710d0d-dc3a-4851-b8e9-1d35616122e8",
   "metadata": {},
   "outputs": [
    {
     "name": "stdout",
     "output_type": "stream",
     "text": [
      "(4, 8, 6)\n"
     ]
    }
   ],
   "source": [
    "x = (4,8,6)\n",
    "print(x)"
   ]
  },
  {
   "cell_type": "code",
   "execution_count": 22,
   "id": "81c222d3-6b66-49fd-8349-d9e82ec70eaa",
   "metadata": {},
   "outputs": [
    {
     "data": {
      "text/plain": [
       "tuple"
      ]
     },
     "execution_count": 22,
     "metadata": {},
     "output_type": "execute_result"
    }
   ],
   "source": [
    "type(x)"
   ]
  },
  {
   "cell_type": "code",
   "execution_count": 23,
   "id": "4b01e964-2273-49ab-82b4-1f5c38a9b2c4",
   "metadata": {},
   "outputs": [
    {
     "name": "stdout",
     "output_type": "stream",
     "text": [
      "8\n"
     ]
    }
   ],
   "source": [
    "print(x[1])"
   ]
  },
  {
   "cell_type": "code",
   "execution_count": 24,
   "id": "34c98fd9-144f-40f6-9d9c-51faabec7ace",
   "metadata": {},
   "outputs": [
    {
     "ename": "TypeError",
     "evalue": "'tuple' object does not support item assignment",
     "output_type": "error",
     "traceback": [
      "\u001b[1;31m---------------------------------------------------------------------------\u001b[0m",
      "\u001b[1;31mTypeError\u001b[0m                                 Traceback (most recent call last)",
      "Input \u001b[1;32mIn [24]\u001b[0m, in \u001b[0;36m<cell line: 1>\u001b[1;34m()\u001b[0m\n\u001b[1;32m----> 1\u001b[0m x[\u001b[38;5;241m1\u001b[39m] \u001b[38;5;241m=\u001b[39m \u001b[38;5;241m5\u001b[39m\n",
      "\u001b[1;31mTypeError\u001b[0m: 'tuple' object does not support item assignment"
     ]
    }
   ],
   "source": [
    "x[1] = 5"
   ]
  },
  {
   "cell_type": "markdown",
   "id": "6e21bc1a-b0ca-47c9-a691-f10017b10b14",
   "metadata": {},
   "source": [
    "Tuple are unmutable where as list are mutable"
   ]
  },
  {
   "cell_type": "code",
   "execution_count": 26,
   "id": "7fdc3edd-e9de-4bb0-9e6d-d7c82efc8ca9",
   "metadata": {},
   "outputs": [],
   "source": [
    "x = open('JupyterNotebookBasics.ipynb', 'r')"
   ]
  },
  {
   "cell_type": "code",
   "execution_count": 27,
   "id": "34e66505-05b6-4779-8e06-c48fbc7049ce",
   "metadata": {},
   "outputs": [
    {
     "data": {
      "text/plain": [
       "_io.TextIOWrapper"
      ]
     },
     "execution_count": 27,
     "metadata": {},
     "output_type": "execute_result"
    }
   ],
   "source": [
    "type(x)"
   ]
  },
  {
   "cell_type": "code",
   "execution_count": 28,
   "id": "bfc9780f-d9e4-4d7c-99aa-272a77394add",
   "metadata": {},
   "outputs": [],
   "source": [
    "(x,y,z) = 5, 10 ,7"
   ]
  },
  {
   "cell_type": "code",
   "execution_count": 30,
   "id": "738eddb6-0b3b-40ea-b9d3-7b327809d726",
   "metadata": {},
   "outputs": [
    {
     "name": "stdout",
     "output_type": "stream",
     "text": [
      "5\n",
      "10\n",
      "7\n"
     ]
    }
   ],
   "source": [
    "print(x)\n",
    "print(y)\n",
    "print(z)"
   ]
  },
  {
   "cell_type": "code",
   "execution_count": 31,
   "id": "4de93574-9b53-4c10-9835-fec0179de52e",
   "metadata": {},
   "outputs": [
    {
     "ename": "ValueError",
     "evalue": "too many values to unpack (expected 2)",
     "output_type": "error",
     "traceback": [
      "\u001b[1;31m---------------------------------------------------------------------------\u001b[0m",
      "\u001b[1;31mValueError\u001b[0m                                Traceback (most recent call last)",
      "Input \u001b[1;32mIn [31]\u001b[0m, in \u001b[0;36m<cell line: 1>\u001b[1;34m()\u001b[0m\n\u001b[1;32m----> 1\u001b[0m (x,y) \u001b[38;5;241m=\u001b[39m \u001b[38;5;241m5\u001b[39m,\u001b[38;5;241m10\u001b[39m,\u001b[38;5;241m7\u001b[39m\n",
      "\u001b[1;31mValueError\u001b[0m: too many values to unpack (expected 2)"
     ]
    }
   ],
   "source": [
    "(x,y) = 5,10,7"
   ]
  },
  {
   "cell_type": "code",
   "execution_count": 32,
   "id": "1b17be7e-2f94-4d49-9e0c-98d46725aa38",
   "metadata": {},
   "outputs": [],
   "source": [
    "(x,y,z) = 1,1,1"
   ]
  },
  {
   "cell_type": "code",
   "execution_count": 35,
   "id": "4d556f0f-6a19-41b0-a681-483cea4ac90c",
   "metadata": {},
   "outputs": [],
   "source": [
    "x = y = z = 1"
   ]
  },
  {
   "cell_type": "code",
   "execution_count": 36,
   "id": "b5c9b611-a15c-4dd5-9e1e-7f11d5aa2f1d",
   "metadata": {},
   "outputs": [
    {
     "name": "stdout",
     "output_type": "stream",
     "text": [
      "1 1 1\n"
     ]
    }
   ],
   "source": [
    "print(x,y,z)"
   ]
  },
  {
   "cell_type": "markdown",
   "id": "56df1ce3-a166-4808-b881-c67fcff5359f",
   "metadata": {},
   "source": [
    "### Rules for naming variables"
   ]
  },
  {
   "cell_type": "markdown",
   "id": "0c316dff-fa66-4d3e-9516-4a6d6bdf6247",
   "metadata": {},
   "source": [
    "Variable name must begin with an alphabet or an underscore(_)"
   ]
  },
  {
   "cell_type": "code",
   "execution_count": 37,
   "id": "3321848c-e361-4a15-9995-77e870c8a650",
   "metadata": {},
   "outputs": [],
   "source": [
    "abc = 100"
   ]
  },
  {
   "cell_type": "code",
   "execution_count": 38,
   "id": "907542c2-31df-41e4-8d8e-2c5a19b0158a",
   "metadata": {},
   "outputs": [],
   "source": [
    "_abc = 10"
   ]
  },
  {
   "cell_type": "code",
   "execution_count": 39,
   "id": "e549f540-d8a8-4495-8015-3d04802ec8ae",
   "metadata": {},
   "outputs": [
    {
     "ename": "SyntaxError",
     "evalue": "invalid decimal literal (2547745391.py, line 1)",
     "output_type": "error",
     "traceback": [
      "\u001b[1;36m  Input \u001b[1;32mIn [39]\u001b[1;36m\u001b[0m\n\u001b[1;33m    3a = 10\u001b[0m\n\u001b[1;37m    ^\u001b[0m\n\u001b[1;31mSyntaxError\u001b[0m\u001b[1;31m:\u001b[0m invalid decimal literal\n"
     ]
    }
   ],
   "source": [
    "3a = 10"
   ]
  },
  {
   "cell_type": "code",
   "execution_count": 40,
   "id": "d3b9753f-608f-4b7b-9982-6cfa6a537c9c",
   "metadata": {},
   "outputs": [
    {
     "ename": "SyntaxError",
     "evalue": "invalid syntax. Maybe you meant '==' or ':=' instead of '='? (3658097499.py, line 1)",
     "output_type": "error",
     "traceback": [
      "\u001b[1;36m  Input \u001b[1;32mIn [40]\u001b[1;36m\u001b[0m\n\u001b[1;33m    @abc = 10\u001b[0m\n\u001b[1;37m     ^\u001b[0m\n\u001b[1;31mSyntaxError\u001b[0m\u001b[1;31m:\u001b[0m invalid syntax. Maybe you meant '==' or ':=' instead of '='?\n"
     ]
    }
   ],
   "source": [
    "@abc = 10"
   ]
  },
  {
   "cell_type": "code",
   "execution_count": null,
   "id": "043e2404-97c6-44be-94f3-04a9e6d969d9",
   "metadata": {},
   "outputs": [],
   "source": []
  }
 ],
 "metadata": {
  "kernelspec": {
   "display_name": "Python 3 (ipykernel)",
   "language": "python",
   "name": "python3"
  },
  "language_info": {
   "codemirror_mode": {
    "name": "ipython",
    "version": 3
   },
   "file_extension": ".py",
   "mimetype": "text/x-python",
   "name": "python",
   "nbconvert_exporter": "python",
   "pygments_lexer": "ipython3",
   "version": "3.10.4"
  }
 },
 "nbformat": 4,
 "nbformat_minor": 5
}
