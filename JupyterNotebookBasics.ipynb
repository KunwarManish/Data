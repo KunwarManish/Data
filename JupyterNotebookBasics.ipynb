{
 "cells": [
  {
   "cell_type": "code",
   "execution_count": 1,
   "id": "a75578db-7225-4891-b5fa-c97ef5904b4e",
   "metadata": {},
   "outputs": [
    {
     "name": "stdout",
     "output_type": "stream",
     "text": [
      "Hello Simplilearn\n"
     ]
    }
   ],
   "source": [
    "hello = \"Hello Simplilearn\"\n",
    "print(hello)"
   ]
  },
  {
   "cell_type": "code",
   "execution_count": 2,
   "id": "7fe7a35e-489b-41b7-9a87-92aaeeabb4c7",
   "metadata": {},
   "outputs": [
    {
     "name": "stdout",
     "output_type": "stream",
     "text": [
      "Hello Simplilearn\n"
     ]
    }
   ],
   "source": [
    "print(hello)"
   ]
  },
  {
   "cell_type": "code",
   "execution_count": 3,
   "id": "545a42d4-8020-4d7d-92e5-f93800204345",
   "metadata": {},
   "outputs": [
    {
     "name": "stdin",
     "output_type": "stream",
     "text": [
      "Enter your name  MK\n"
     ]
    },
    {
     "name": "stdout",
     "output_type": "stream",
     "text": [
      "hi MK\n"
     ]
    }
   ],
   "source": [
    "name = input(\"Enter your name \")\n",
    "print(\"hi\", name)             "
   ]
  },
  {
   "cell_type": "code",
   "execution_count": 4,
   "id": "57e3aa9c-06cf-4f68-89f8-981333cc6498",
   "metadata": {},
   "outputs": [
    {
     "name": "stdout",
     "output_type": "stream",
     "text": [
      "Hope to see you in class soon.\n"
     ]
    }
   ],
   "source": [
    "print(\"Hope to see you in class soon.\")"
   ]
  },
  {
   "cell_type": "markdown",
   "id": "7295ddea-9983-47e7-8ee7-8d55de688187",
   "metadata": {},
   "source": [
    "this is a title \n",
    "\n",
    "# this a bigger title"
   ]
  },
  {
   "cell_type": "code",
   "execution_count": 5,
   "id": "b39cb4c1-a035-4e3c-8407-8ffff78479da",
   "metadata": {},
   "outputs": [
    {
     "data": {
      "image/png": "[encoded data removed]",
      "text/plain": [
       "<Figure size 432x288 with 1 Axes>"
      ]
     },
     "metadata": {
      "needs_background": "light"
     },
     "output_type": "display_data"
    }
   ],
   "source": [
    "import matplotlib.pyplot as plt\n",
    "plt.plot([1,2,3,4], [1,2,3,4])\n",
    "plt.show()"
   ]
  },
  {
   "cell_type": "markdown",
   "id": "0008dcb2-684d-4856-9d5d-9c7242d5aeff",
   "metadata": {},
   "source": [
    "# welcome to my simple graph"
   ]
  },
  {
   "cell_type": "code",
   "execution_count": 7,
   "id": "7560aa6e-5d1d-463a-b30f-0645ae121783",
   "metadata": {},
   "outputs": [
    {
     "data": {
      "image/png": "[encoded data removed]",
      "text/plain": [
       "<Figure size 432x288 with 1 Axes>"
      ]
     },
     "metadata": {
      "needs_background": "light"
     },
     "output_type": "display_data"
    }
   ],
   "source": [
    "plt.plot([1,2,3,4], [1,2,3,4])\n",
    "plt.show()"
   ]
  },
  {
   "cell_type": "markdown",
   "id": "6e05a070-a5b7-434e-91af-8cde8cf399ca",
   "metadata": {},
   "source": [
    "# Python variable"
   ]
  },
  {
   "cell_type": "markdown",
   "id": "0b99b4bf-11c3-4b9c-96f2-0a22e96f7343",
   "metadata": {},
   "source": [
    "## What is a variable?\n",
    "Variables are entities of a program that hold a value."
   ]
  },
  {
   "cell_type": "code",
   "execution_count": 1,
   "id": "b09b0c07-74ec-46ba-86f0-8e9e88b29ab0",
   "metadata": {},
   "outputs": [],
   "source": [
    "x = 100"
   ]
  },
  {
   "cell_type": "code",
   "execution_count": 2,
   "id": "3762a5cc-9f2f-40c3-9416-34ee623ee2d7",
   "metadata": {},
   "outputs": [
    {
     "data": {
      "text/plain": [
       "int"
      ]
     },
     "execution_count": 2,
     "metadata": {},
     "output_type": "execute_result"
    }
   ],
   "source": [
    "type(x)"
   ]
  },
  {
   "cell_type": "code",
   "execution_count": 4,
   "id": "3439ed49-0bce-44ca-bcf5-6530c4f2db58",
   "metadata": {},
   "outputs": [
    {
     "data": {
      "text/plain": [
       "int"
      ]
     },
     "execution_count": 4,
     "metadata": {},
     "output_type": "execute_result"
    }
   ],
   "source": [
    "x = 65*6734\n",
    "type(x)"
   ]
  },
  {
   "cell_type": "code",
   "execution_count": 5,
   "id": "ae6e12a8-0484-4817-8d88-ad0ee972e1a3",
   "metadata": {},
   "outputs": [
    {
     "name": "stdout",
     "output_type": "stream",
     "text": [
      "437710\n"
     ]
    }
   ],
   "source": [
    "print(x)"
   ]
  },
  {
   "cell_type": "code",
   "execution_count": 6,
   "id": "fe813d00-46a2-4e76-ac79-f004b3a86d16",
   "metadata": {},
   "outputs": [],
   "source": [
    "x = 3.14"
   ]
  },
  {
   "cell_type": "code",
   "execution_count": 7,
   "id": "f7577770-e575-4a2f-aaf0-9ae20a26314c",
   "metadata": {},
   "outputs": [
    {
     "name": "stdout",
     "output_type": "stream",
     "text": [
      "3.14\n"
     ]
    }
   ],
   "source": [
    "print(x)"
   ]
  },
  {
   "cell_type": "code",
   "execution_count": 8,
   "id": "0ed2eefb-c754-4b6b-97d9-69c7706aa63b",
   "metadata": {},
   "outputs": [
    {
     "data": {
      "text/plain": [
       "float"
      ]
     },
     "execution_count": 8,
     "metadata": {},
     "output_type": "execute_result"
    }
   ],
   "source": [
    "type(x)"
   ]
  },
  {
   "cell_type": "code",
   "execution_count": 9,
   "id": "aa62b225-1f81-4d97-a75e-783efd60e18c",
   "metadata": {},
   "outputs": [],
   "source": [
    "x = \"Simplilearn\""
   ]
  },
  {
   "cell_type": "code",
   "execution_count": 10,
   "id": "a88160b4-96dd-4675-99aa-b9fbee70f5cc",
   "metadata": {},
   "outputs": [
    {
     "name": "stdout",
     "output_type": "stream",
     "text": [
      "Simplilearn\n"
     ]
    }
   ],
   "source": [
    "print(x)"
   ]
  },
  {
   "cell_type": "code",
   "execution_count": 11,
   "id": "f32c20ac-7abd-49c3-86e3-6dfa5ea53998",
   "metadata": {},
   "outputs": [
    {
     "name": "stdout",
     "output_type": "stream",
     "text": [
      "Simplilear\n"
     ]
    }
   ],
   "source": [
    "x = 'Simplilear'\n",
    "print(x)"
   ]
  },
  {
   "cell_type": "code",
   "execution_count": 12,
   "id": "617f5d06-0e1e-45d0-93ad-8b4f1d6d2947",
   "metadata": {},
   "outputs": [
    {
     "data": {
      "text/plain": [
       "str"
      ]
     },
     "execution_count": 12,
     "metadata": {},
     "output_type": "execute_result"
    }
   ],
   "source": [
    "type(x)"
   ]
  },
  {
   "cell_type": "markdown",
   "id": "159bbc23-3cde-4a58-a230-d7f36a742ed0",
   "metadata": {},
   "source": [
    "### List"
   ]
  },
  {
   "cell_type": "code",
   "execution_count": 13,
   "id": "c12fe9ae-96f6-48c6-b15d-078793c7ea43",
   "metadata": {},
   "outputs": [],
   "source": [
    "x = [14,67,9]"
   ]
  },
  {
   "cell_type": "code",
   "execution_count": 14,
   "id": "508d7e52-680b-4211-9eac-4477d6004a67",
   "metadata": {},
   "outputs": [
    {
     "name": "stdout",
     "output_type": "stream",
     "text": [
      "[14, 67, 9]\n"
     ]
    }
   ],
   "source": [
    "print(x)"
   ]
  },
  {
   "cell_type": "code",
   "execution_count": 15,
   "id": "0827c8a2-d480-404d-8d47-1c20c171b9f6",
   "metadata": {},
   "outputs": [
    {
     "data": {
      "text/plain": [
       "list"
      ]
     },
     "execution_count": 15,
     "metadata": {},
     "output_type": "execute_result"
    }
   ],
   "source": [
    "type(x)"
   ]
  },
  {
   "cell_type": "code",
   "execution_count": 16,
   "id": "0e6606b7-5a74-4516-9ba3-649036b88387",
   "metadata": {},
   "outputs": [
    {
     "name": "stdout",
     "output_type": "stream",
     "text": [
      "14\n"
     ]
    }
   ],
   "source": [
    "print(x[0])"
   ]
  },
  {
   "cell_type": "code",
   "execution_count": 17,
   "id": "f24880c1-a3e4-41c3-a880-633e00cae649",
   "metadata": {},
   "outputs": [
    {
     "name": "stdout",
     "output_type": "stream",
     "text": [
      "9\n"
     ]
    }
   ],
   "source": [
    "print(x[2])"
   ]
  },
  {
   "cell_type": "code",
   "execution_count": 18,
   "id": "34350726-9d1d-4da7-b5f2-9af53e45eefc",
   "metadata": {},
   "outputs": [],
   "source": [
    "x[2] = 67"
   ]
  },
  {
   "cell_type": "code",
   "execution_count": 19,
   "id": "8d9bb9cc-73f7-4f06-9182-f2f4f3394f6b",
   "metadata": {},
   "outputs": [
    {
     "name": "stdout",
     "output_type": "stream",
     "text": [
      "[14, 67, 67]\n"
     ]
    }
   ],
   "source": [
    "print(x)"
   ]
  },
  {
   "cell_type": "markdown",
   "id": "66b8d4fc-5c31-448b-afc2-124728886040",
   "metadata": {},
   "source": [
    "### Tuple"
   ]
  },
  {
   "cell_type": "code",
   "execution_count": 20,
   "id": "09710d0d-dc3a-4851-b8e9-1d35616122e8",
   "metadata": {},
   "outputs": [
    {
     "name": "stdout",
     "output_type": "stream",
     "text": [
      "(4, 8, 6)\n"
     ]
    }
   ],
   "source": [
    "x = (4,8,6)\n",
    "print(x)"
   ]
  },
  {
   "cell_type": "code",
   "execution_count": 22,
   "id": "81c222d3-6b66-49fd-8349-d9e82ec70eaa",
   "metadata": {},
   "outputs": [
    {
     "data": {
      "text/plain": [
       "tuple"
      ]
     },
     "execution_count": 22,
     "metadata": {},
     "output_type": "execute_result"
    }
   ],
   "source": [
    "type(x)"
   ]
  },
  {
   "cell_type": "code",
   "execution_count": 23,
   "id": "4b01e964-2273-49ab-82b4-1f5c38a9b2c4",
   "metadata": {},
   "outputs": [
    {
     "name": "stdout",
     "output_type": "stream",
     "text": [
      "8\n"
     ]
    }
   ],
   "source": [
    "print(x[1])"
   ]
  },
  {
   "cell_type": "code",
   "execution_count": 24,
   "id": "34c98fd9-144f-40f6-9d9c-51faabec7ace",
   "metadata": {},
   "outputs": [
    {
     "ename": "TypeError",
     "evalue": "'tuple' object does not support item assignment",
     "output_type": "error",
     "traceback": [
      "\u001b[1;31m---------------------------------------------------------------------------\u001b[0m",
      "\u001b[1;31mTypeError\u001b[0m                                 Traceback (most recent call last)",
      "Input \u001b[1;32mIn [24]\u001b[0m, in \u001b[0;36m<cell line: 1>\u001b[1;34m()\u001b[0m\n\u001b[1;32m----> 1\u001b[0m x[\u001b[38;5;241m1\u001b[39m] \u001b[38;5;241m=\u001b[39m \u001b[38;5;241m5\u001b[39m\n",
      "\u001b[1;31mTypeError\u001b[0m: 'tuple' object does not support item assignment"
     ]
    }
   ],
   "source": [
    "x[1] = 5"
   ]
  },
  {
   "cell_type": "markdown",
   "id": "6e21bc1a-b0ca-47c9-a691-f10017b10b14",
   "metadata": {},
   "source": [
    "Tuple are unmutable where as list are mutable"
   ]
  },
  {
   "cell_type": "code",
   "execution_count": 26,
   "id": "7fdc3edd-e9de-4bb0-9e6d-d7c82efc8ca9",
   "metadata": {},
   "outputs": [],
   "source": [
    "x = open('JupyterNotebookBasics.ipynb', 'r')"
   ]
  },
  {
   "cell_type": "code",
   "execution_count": 27,
   "id": "34e66505-05b6-4779-8e06-c48fbc7049ce",
   "metadata": {},
   "outputs": [
    {
     "data": {
      "text/plain": [
       "_io.TextIOWrapper"
      ]
     },
     "execution_count": 27,
     "metadata": {},
     "output_type": "execute_result"
    }
   ],
   "source": [
    "\n",
    "x = open('JupyterNotebookBasics.ipyntype(x)"
   ]
  },
  {
   "cell_type": "code",
   "execution_count": 28,
   "id": "bfc9780f-d9e4-4d7c-99aa-272a77394add",
   "metadata": {},
   "outputs": [],
   "source": [
    "(x,y,z) = 5, 10 ,7"
   ]
  },
  {
   "cell_type": "code",
   "execution_count": 30,
   "id": "738eddb6-0b3b-40ea-b9d3-7b327809d726",
   "metadata": {},
   "outputs": [
    {
     "name": "stdout",
     "output_type": "stream",
     "text": [
      "5\n",
      "10\n",
      "7\n"
     ]
    }
   ],
   "source": [
    "print(x)\n",
    "print(y)\n",
    "print(z)"
   ]
  },
  {
   "cell_type": "code",
   "execution_count": 31,
   "id": "4de93574-9b53-4c10-9835-fec0179de52e",
   "metadata": {},
   "outputs": [
    {
     "ename": "ValueError",
     "evalue": "too many values to unpack (expected 2)",
     "output_type": "error",
     "traceback": [
      "\u001b[1;31m---------------------------------------------------------------------------\u001b[0m",
      "\u001b[1;31mValueError\u001b[0m                                Traceback (most recent call last)",
      "Input \u001b[1;32mIn [31]\u001b[0m, in \u001b[0;36m<cell line: 1>\u001b[1;34m()\u001b[0m\n\u001b[1;32m----> 1\u001b[0m (x,y) \u001b[38;5;241m=\u001b[39m \u001b[38;5;241m5\u001b[39m,\u001b[38;5;241m10\u001b[39m,\u001b[38;5;241m7\u001b[39m\n",
      "\u001b[1;31mValueError\u001b[0m: too many values to unpack (expected 2)"
     ]
    }
   ],
   "source": [
    "(x,y) = 5,10,7"
   ]
  },
  {
   "cell_type": "code",
   "execution_count": 32,
   "id": "1b17be7e-2f94-4d49-9e0c-98d46725aa38",
   "metadata": {},
   "outputs": [],
   "source": [
    "(x,y,z) = 1,1,1"
   ]
  },
  {
   "cell_type": "code",
   "execution_count": 35,
   "id": "4d556f0f-6a19-41b0-a681-483cea4ac90c",
   "metadata": {},
   "outputs": [],
   "source": [
    "x = y = z = 1"
   ]
  },
  {
   "cell_type": "code",
   "execution_count": 36,
   "id": "b5c9b611-a15c-4dd5-9e1e-7f11d5aa2f1d",
   "metadata": {},
   "outputs": [
    {
     "name": "stdout",
     "output_type": "stream",
     "text": [
      "1 1 1\n"
     ]
    }
   ],
   "source": [
    "print(x,y,z)"
   ]
  },
  {
   "cell_type": "markdown",
   "id": "56df1ce3-a166-4808-b881-c67fcff5359f",
   "metadata": {},
   "source": [
    "### Rules for naming variables"
   ]
  },
  {
   "cell_type": "markdown",
   "id": "0c316dff-fa66-4d3e-9516-4a6d6bdf6247",
   "metadata": {},
   "source": [
    "Variable name must begin with an alphabet or an underscore(_)"
   ]
  },
  {
   "cell_type": "code",
   "execution_count": 37,
   "id": "3321848c-e361-4a15-9995-77e870c8a650",
   "metadata": {},
   "outputs": [],
   "source": [
    "abc = 100"
   ]
  },
  {
   "cell_type": "code",
   "execution_count": 38,
   "id": "907542c2-31df-41e4-8d8e-2c5a19b0158a",
   "metadata": {},
   "outputs": [],
   "source": [
    "_abc = 10"
   ]
  },
  {
   "cell_type": "code",
   "execution_count": 39,
   "id": "e549f540-d8a8-4495-8015-3d04802ec8ae",
   "metadata": {},
   "outputs": [
    {
     "ename": "SyntaxError",
     "evalue": "invalid decimal literal (2547745391.py, line 1)",
     "output_type": "error",
     "traceback": [
      "\u001b[1;36m  Input \u001b[1;32mIn [39]\u001b[1;36m\u001b[0m\n\u001b[1;33m    3a = 10\u001b[0m\n\u001b[1;37m    ^\u001b[0m\n\u001b[1;31mSyntaxError\u001b[0m\u001b[1;31m:\u001b[0m invalid decimal literal\n"
     ]
    }
   ],
   "source": [
    "3a = 10"
   ]
  },
  {
   "cell_type": "code",
   "execution_count": 40,
   "id": "d3b9753f-608f-4b7b-9982-6cfa6a537c9c",
   "metadata": {},
   "outputs": [
    {
     "ename": "SyntaxError",
     "evalue": "invalid syntax. Maybe you meant '==' or ':=' instead of '='? (3658097499.py, line 1)",
     "output_type": "error",
     "traceback": [
      "\u001b[1;36m  Input \u001b[1;32mIn [40]\u001b[1;36m\u001b[0m\n\u001b[1;33m    @abc = 10\u001b[0m\n\u001b[1;37m     ^\u001b[0m\n\u001b[1;31mSyntaxError\u001b[0m\u001b[1;31m:\u001b[0m invalid syntax. Maybe you meant '==' or ':=' instead of '='?\n"
     ]
    }
   ],
   "source": [
    "@abc = 10"
   ]
  },
  {
   "cell_type": "markdown",
   "id": "dade221a-0b0b-4145-a0b4-d453a94dafe0",
   "metadata": {},
   "source": [
    "The first character can be followed by alphabets, numbers or underscore"
   ]
  },
  {
   "cell_type": "code",
   "execution_count": 1,
   "id": "4957af8f-471e-4ac9-bd6f-43ea2d88844a",
   "metadata": {},
   "outputs": [],
   "source": [
    "a100 = 100"
   ]
  },
  {
   "cell_type": "code",
   "execution_count": 2,
   "id": "bbc41daf-f2f0-44a4-9aa8-d273d71ac173",
   "metadata": {},
   "outputs": [],
   "source": [
    "_a984_ = 100"
   ]
  },
  {
   "cell_type": "code",
   "execution_count": 3,
   "id": "dd59fc3d-1419-49e8-a2e3-a63dea6ffba0",
   "metadata": {},
   "outputs": [
    {
     "ename": "SyntaxError",
     "evalue": "invalid syntax (408312968.py, line 1)",
     "output_type": "error",
     "traceback": [
      "\u001b[1;36m  Input \u001b[1;32mIn [3]\u001b[1;36m\u001b[0m\n\u001b[1;33m    a9967$ = 100\u001b[0m\n\u001b[1;37m         ^\u001b[0m\n\u001b[1;31mSyntaxError\u001b[0m\u001b[1;31m:\u001b[0m invalid syntax\n"
     ]
    }
   ],
   "source": [
    "a9967$ = 100"
   ]
  },
  {
   "cell_type": "code",
   "execution_count": 4,
   "id": "5893bedb-6535-4194-b342-fd473cc80bc4",
   "metadata": {},
   "outputs": [
    {
     "ename": "SyntaxError",
     "evalue": "cannot assign to expression here. Maybe you meant '==' instead of '='? (3053152123.py, line 1)",
     "output_type": "error",
     "traceback": [
      "\u001b[1;36m  Input \u001b[1;32mIn [4]\u001b[1;36m\u001b[0m\n\u001b[1;33m    xyz-2 = 100\u001b[0m\n\u001b[1;37m    ^\u001b[0m\n\u001b[1;31mSyntaxError\u001b[0m\u001b[1;31m:\u001b[0m cannot assign to expression here. Maybe you meant '==' instead of '='?\n"
     ]
    }
   ],
   "source": [
    "xyz-2 = 100"
   ]
  },
  {
   "cell_type": "markdown",
   "id": "4926d88f-fdea-4515-9420-e9b85334eed1",
   "metadata": {},
   "source": [
    "Variable names are cas sensitive\n",
    "\n",
    "a100 is different from A100"
   ]
  },
  {
   "cell_type": "code",
   "execution_count": 6,
   "id": "e95d9fb5-af07-41c7-b7e1-7c1faded15dd",
   "metadata": {},
   "outputs": [],
   "source": [
    "a100 = 100\n",
    "A100 = 200"
   ]
  },
  {
   "cell_type": "code",
   "execution_count": 7,
   "id": "8698b1bb-7037-4d4f-8d5a-20115b35bb2f",
   "metadata": {},
   "outputs": [
    {
     "name": "stdout",
     "output_type": "stream",
     "text": [
      "100 200\n"
     ]
    }
   ],
   "source": [
    "print(a100, A100)"
   ]
  },
  {
   "cell_type": "markdown",
   "id": "3b7a3419-0e82-48e0-839a-9ca3778b9dac",
   "metadata": {},
   "source": [
    "Rserved words cannot be used as variable names\n",
    "\n",
    "break, class, try"
   ]
  },
  {
   "cell_type": "code",
   "execution_count": 8,
   "id": "7d5e13cf-1741-49a0-bb88-2c6798878bdb",
   "metadata": {},
   "outputs": [
    {
     "ename": "SyntaxError",
     "evalue": "invalid syntax (3274487030.py, line 1)",
     "output_type": "error",
     "traceback": [
      "\u001b[1;36m  Input \u001b[1;32mIn [8]\u001b[1;36m\u001b[0m\n\u001b[1;33m    break = 10\u001b[0m\n\u001b[1;37m          ^\u001b[0m\n\u001b[1;31mSyntaxError\u001b[0m\u001b[1;31m:\u001b[0m invalid syntax\n"
     ]
    }
   ],
   "source": [
    "break = 10"
   ]
  },
  {
   "cell_type": "code",
   "execution_count": 9,
   "id": "9309ad64-84f3-4247-8b78-78d394e62585",
   "metadata": {},
   "outputs": [
    {
     "ename": "SyntaxError",
     "evalue": "invalid syntax (3036261529.py, line 1)",
     "output_type": "error",
     "traceback": [
      "\u001b[1;36m  Input \u001b[1;32mIn [9]\u001b[1;36m\u001b[0m\n\u001b[1;33m    class =5\u001b[0m\n\u001b[1;37m          ^\u001b[0m\n\u001b[1;31mSyntaxError\u001b[0m\u001b[1;31m:\u001b[0m invalid syntax\n"
     ]
    }
   ],
   "source": [
    "class =5 "
   ]
  },
  {
   "cell_type": "code",
   "execution_count": 10,
   "id": "be6d4f23-3100-4dd5-bff7-8d73b9678a64",
   "metadata": {},
   "outputs": [
    {
     "ename": "SyntaxError",
     "evalue": "expected ':' (3055775905.py, line 1)",
     "output_type": "error",
     "traceback": [
      "\u001b[1;36m  Input \u001b[1;32mIn [10]\u001b[1;36m\u001b[0m\n\u001b[1;33m    try = 100\u001b[0m\n\u001b[1;37m        ^\u001b[0m\n\u001b[1;31mSyntaxError\u001b[0m\u001b[1;31m:\u001b[0m expected ':'\n"
     ]
    }
   ],
   "source": [
    "try = 100"
   ]
  },
  {
   "cell_type": "markdown",
   "id": "88c960ed-0eee-427e-b69d-ec0e5c2e9bab",
   "metadata": {},
   "source": [
    "### Arithmetic Operations"
   ]
  },
  {
   "cell_type": "code",
   "execution_count": 11,
   "id": "4a2cb28f-fa74-4eca-97d9-e76327123e07",
   "metadata": {},
   "outputs": [],
   "source": [
    "x = 20\n",
    "y = 10"
   ]
  },
  {
   "cell_type": "code",
   "execution_count": 12,
   "id": "25bb5cab-281a-4a4d-99b6-5e30a2362037",
   "metadata": {},
   "outputs": [
    {
     "name": "stdout",
     "output_type": "stream",
     "text": [
      "30\n"
     ]
    }
   ],
   "source": [
    "result = x+y \n",
    "print(result)"
   ]
  },
  {
   "cell_type": "code",
   "execution_count": 13,
   "id": "4f79964b-4db5-41df-bfab-8d77603778da",
   "metadata": {},
   "outputs": [
    {
     "name": "stdout",
     "output_type": "stream",
     "text": [
      "10\n"
     ]
    }
   ],
   "source": [
    "result = x-y\n",
    "print(result)"
   ]
  },
  {
   "cell_type": "code",
   "execution_count": 14,
   "id": "689f11ca-cdba-4028-85d3-cf6d972b4dfb",
   "metadata": {},
   "outputs": [
    {
     "name": "stdout",
     "output_type": "stream",
     "text": [
      "200\n"
     ]
    }
   ],
   "source": [
    "result = x*y\n",
    "print(result)"
   ]
  },
  {
   "cell_type": "code",
   "execution_count": 15,
   "id": "682a5924-ea9c-4d71-8911-3c661018334b",
   "metadata": {},
   "outputs": [
    {
     "name": "stdout",
     "output_type": "stream",
     "text": [
      "2.0\n"
     ]
    }
   ],
   "source": [
    "result = x/y\n",
    "print(result)"
   ]
  },
  {
   "cell_type": "code",
   "execution_count": 16,
   "id": "7da9e06a-993e-4366-840e-edb6de8afbf8",
   "metadata": {},
   "outputs": [
    {
     "name": "stdout",
     "output_type": "stream",
     "text": [
      "2\n"
     ]
    }
   ],
   "source": [
    "result = x//y\n",
    "print(result)"
   ]
  },
  {
   "cell_type": "code",
   "execution_count": 17,
   "id": "976e3b39-9432-4e2d-9c8a-276044790fb5",
   "metadata": {},
   "outputs": [
    {
     "name": "stdout",
     "output_type": "stream",
     "text": [
      "0.6666666666666666\n"
     ]
    }
   ],
   "source": [
    "result = 2/3\n",
    "print(result)"
   ]
  },
  {
   "cell_type": "code",
   "execution_count": 18,
   "id": "a1ccc609-0760-4f62-981b-8c4e53db1be5",
   "metadata": {},
   "outputs": [
    {
     "name": "stdout",
     "output_type": "stream",
     "text": [
      "0\n"
     ]
    }
   ],
   "source": [
    "result = 2//3\n",
    "print(result)"
   ]
  },
  {
   "cell_type": "code",
   "execution_count": 19,
   "id": "5d52b47e-7720-4f02-b67f-7ad64c42468e",
   "metadata": {},
   "outputs": [
    {
     "name": "stdout",
     "output_type": "stream",
     "text": [
      "0\n"
     ]
    }
   ],
   "source": [
    "result = x%y\n",
    "print(result)"
   ]
  },
  {
   "cell_type": "code",
   "execution_count": 20,
   "id": "3286627a-b56d-4b2b-9d5b-68916d3e1d4f",
   "metadata": {},
   "outputs": [
    {
     "name": "stdout",
     "output_type": "stream",
     "text": [
      "1\n"
     ]
    }
   ],
   "source": [
    "result = 3%2\n",
    "print(result)"
   ]
  },
  {
   "cell_type": "code",
   "execution_count": 21,
   "id": "760d1751-142d-4ffb-bed9-ffc27a90ba6e",
   "metadata": {},
   "outputs": [],
   "source": [
    "x = 3.14\n",
    "y = 5.7"
   ]
  },
  {
   "cell_type": "code",
   "execution_count": 22,
   "id": "bac69e81-e3d9-41ca-a719-ac6a619907e8",
   "metadata": {},
   "outputs": [
    {
     "name": "stdout",
     "output_type": "stream",
     "text": [
      "0.5508771929824562\n"
     ]
    }
   ],
   "source": [
    "result = x/y\n",
    "print(result)"
   ]
  },
  {
   "cell_type": "markdown",
   "id": "708bdaa9-18f9-4bc9-880e-89a87ece2ca4",
   "metadata": {},
   "source": [
    "### String operations"
   ]
  },
  {
   "cell_type": "code",
   "execution_count": 24,
   "id": "6db7370f-d4c9-47ff-9258-47e33fe08b0e",
   "metadata": {},
   "outputs": [],
   "source": [
    "var = \"Simplilearn\""
   ]
  },
  {
   "cell_type": "code",
   "execution_count": 25,
   "id": "47439210-122a-4729-aff7-eaa7f9fc5dc2",
   "metadata": {},
   "outputs": [
    {
     "name": "stdout",
     "output_type": "stream",
     "text": [
      "S\n"
     ]
    }
   ],
   "source": [
    "print(var[0])"
   ]
  },
  {
   "cell_type": "code",
   "execution_count": 26,
   "id": "be81fc9b-dc5c-493e-a36e-bc330d4af0ec",
   "metadata": {},
   "outputs": [
    {
     "name": "stdout",
     "output_type": "stream",
     "text": [
      "l\n"
     ]
    }
   ],
   "source": [
    "print(var[4])"
   ]
  },
  {
   "cell_type": "code",
   "execution_count": 27,
   "id": "f1e12fad-ee23-4248-a553-ab6b4ecdce3d",
   "metadata": {},
   "outputs": [
    {
     "name": "stdout",
     "output_type": "stream",
     "text": [
      "Sim\n"
     ]
    }
   ],
   "source": [
    "print(var[0:3])"
   ]
  },
  {
   "cell_type": "code",
   "execution_count": 28,
   "id": "481fd68f-3783-4fd8-9892-8aafa962f7f4",
   "metadata": {},
   "outputs": [
    {
     "name": "stdout",
     "output_type": "stream",
     "text": [
      "Sim\n"
     ]
    }
   ],
   "source": [
    "print(var[:3])"
   ]
  },
  {
   "cell_type": "code",
   "execution_count": 29,
   "id": "ef496c67-019b-49e4-8f5a-0054e907ae55",
   "metadata": {},
   "outputs": [
    {
     "name": "stdout",
     "output_type": "stream",
     "text": [
      "ilearn\n"
     ]
    }
   ],
   "source": [
    "print(var[5:])"
   ]
  },
  {
   "cell_type": "code",
   "execution_count": 31,
   "id": "9bf1659a-1f10-4356-badc-774a7878107c",
   "metadata": {},
   "outputs": [
    {
     "name": "stdout",
     "output_type": "stream",
     "text": [
      "Simplilearn\n"
     ]
    }
   ],
   "source": [
    "print(var[0:20])"
   ]
  },
  {
   "cell_type": "code",
   "execution_count": 32,
   "id": "03a11be0-a22c-4583-be4b-d412ab499d16",
   "metadata": {},
   "outputs": [
    {
     "data": {
      "text/plain": [
       "11"
      ]
     },
     "execution_count": 32,
     "metadata": {},
     "output_type": "execute_result"
    }
   ],
   "source": [
    "len(var)"
   ]
  },
  {
   "cell_type": "markdown",
   "id": "ee4218c0-e108-492d-84ad-b6c79cef1200",
   "metadata": {},
   "source": [
    "## Python Numbers"
   ]
  },
  {
   "cell_type": "code",
   "execution_count": 1,
   "id": "ea90d1f7-03c6-4af0-8115-4d3b0161c492",
   "metadata": {},
   "outputs": [
    {
     "data": {
      "text/plain": [
       "int"
      ]
     },
     "execution_count": 1,
     "metadata": {},
     "output_type": "execute_result"
    }
   ],
   "source": [
    "num = 5\n",
    "type(num)"
   ]
  },
  {
   "cell_type": "code",
   "execution_count": 3,
   "id": "bc24a6fb-0e2f-4e3f-b53b-87fd2b6a4d6e",
   "metadata": {},
   "outputs": [
    {
     "data": {
      "text/plain": [
       "int"
      ]
     },
     "execution_count": 3,
     "metadata": {},
     "output_type": "execute_result"
    }
   ],
   "source": [
    "num = 2343463867230698\n",
    "type(num)"
   ]
  },
  {
   "cell_type": "code",
   "execution_count": 4,
   "id": "5644e564-307f-4fda-bbfa-94250f03af99",
   "metadata": {},
   "outputs": [
    {
     "data": {
      "text/plain": [
       "float"
      ]
     },
     "execution_count": 4,
     "metadata": {},
     "output_type": "execute_result"
    }
   ],
   "source": [
    "num = 5.4\n",
    "type(num)"
   ]
  },
  {
   "cell_type": "code",
   "execution_count": 5,
   "id": "5a5e2597-2144-4e36-87d4-9a980f7a5331",
   "metadata": {},
   "outputs": [
    {
     "data": {
      "text/plain": [
       "complex"
      ]
     },
     "execution_count": 5,
     "metadata": {},
     "output_type": "execute_result"
    }
   ],
   "source": [
    "num = 2 + 5j\n",
    "type(num)"
   ]
  },
  {
   "cell_type": "code",
   "execution_count": 6,
   "id": "1e4bb60f-9cc5-44e4-85a6-4be7f69d2789",
   "metadata": {},
   "outputs": [
    {
     "data": {
      "text/plain": [
       "2.0"
      ]
     },
     "execution_count": 6,
     "metadata": {},
     "output_type": "execute_result"
    }
   ],
   "source": [
    "num.real"
   ]
  },
  {
   "cell_type": "code",
   "execution_count": 7,
   "id": "9d1185ec-cd77-4f39-b3b4-73ffeec3d881",
   "metadata": {},
   "outputs": [
    {
     "data": {
      "text/plain": [
       "5.0"
      ]
     },
     "execution_count": 7,
     "metadata": {},
     "output_type": "execute_result"
    }
   ],
   "source": [
    "num.imag"
   ]
  },
  {
   "cell_type": "code",
   "execution_count": 8,
   "id": "00dc4933-64a2-4187-ade7-6d740f30f214",
   "metadata": {},
   "outputs": [
    {
     "data": {
      "text/plain": [
       "-5647.675"
      ]
     },
     "execution_count": 8,
     "metadata": {},
     "output_type": "execute_result"
    }
   ],
   "source": [
    "num = -5647.675\n",
    "num"
   ]
  },
  {
   "cell_type": "code",
   "execution_count": 1,
   "id": "e5427df2-f9c2-415f-859c-da5ad7fe8dda",
   "metadata": {},
   "outputs": [],
   "source": [
    "num1 = 10\n",
    "num2 = 2"
   ]
  },
  {
   "cell_type": "code",
   "execution_count": 2,
   "id": "29830c0d-ded8-4abf-a7d5-18ab27d8bb3e",
   "metadata": {},
   "outputs": [
    {
     "name": "stdout",
     "output_type": "stream",
     "text": [
      "12\n"
     ]
    }
   ],
   "source": [
    "print(num1+num2)"
   ]
  },
  {
   "cell_type": "code",
   "execution_count": 3,
   "id": "85e3c594-40cd-4a6c-9eb2-36b6b67b613d",
   "metadata": {},
   "outputs": [
    {
     "name": "stdout",
     "output_type": "stream",
     "text": [
      "8\n"
     ]
    }
   ],
   "source": [
    "print(num1-num2)"
   ]
  },
  {
   "cell_type": "code",
   "execution_count": 4,
   "id": "8b46c703-c8aa-4ef1-b6e7-ab4ad72244ba",
   "metadata": {},
   "outputs": [
    {
     "name": "stdout",
     "output_type": "stream",
     "text": [
      "20\n"
     ]
    }
   ],
   "source": [
    "print(num1*num2)"
   ]
  },
  {
   "cell_type": "code",
   "execution_count": 5,
   "id": "2b3842cc-e492-4e4c-a346-3b060d85b209",
   "metadata": {},
   "outputs": [
    {
     "name": "stdout",
     "output_type": "stream",
     "text": [
      "5.0\n"
     ]
    }
   ],
   "source": [
    "print(num1/num2)"
   ]
  },
  {
   "cell_type": "code",
   "execution_count": 6,
   "id": "9e693ca0-f706-4352-9f92-b634705d2746",
   "metadata": {},
   "outputs": [
    {
     "name": "stdout",
     "output_type": "stream",
     "text": [
      "3.3333333333333335\n"
     ]
    }
   ],
   "source": [
    "print(10/3)"
   ]
  },
  {
   "cell_type": "code",
   "execution_count": null,
   "id": "cd1ef10b-c666-46cb-b3ef-a25684fd14aa",
   "metadata": {},
   "outputs": [
    {
     "name": "stdout",
     "output_type": "stream",
     "text": [
      "3\n"
     ]
    }
   ],
   "source": [
    "print(10//3)"
   ]
  },
  {
   "cell_type": "code",
   "execution_count": 9,
   "id": "a6b58dc2-008b-4344-a6e4-88b2c490b908",
   "metadata": {},
   "outputs": [
    {
     "name": "stdout",
     "output_type": "stream",
     "text": [
      "100\n"
     ]
    }
   ],
   "source": [
    "print(num1**num2)"
   ]
  },
  {
   "cell_type": "code",
   "execution_count": 10,
   "id": "98bee3b8-5e92-45ce-ab2c-0f79859ebfb6",
   "metadata": {},
   "outputs": [
    {
     "name": "stdout",
     "output_type": "stream",
     "text": [
      "0\n"
     ]
    }
   ],
   "source": [
    "print(num1%num2)"
   ]
  },
  {
   "cell_type": "code",
   "execution_count": 11,
   "id": "add5d4b2-6ff5-4394-a074-970831d1ab4b",
   "metadata": {},
   "outputs": [
    {
     "name": "stdout",
     "output_type": "stream",
     "text": [
      "1\n"
     ]
    }
   ],
   "source": [
    "print(10%3)"
   ]
  },
  {
   "cell_type": "markdown",
   "id": "c9943473-724d-4d10-a59e-74e243026abe",
   "metadata": {},
   "source": [
    "### Coversions"
   ]
  },
  {
   "cell_type": "code",
   "execution_count": 12,
   "id": "b428480d-54a8-4a3c-94a1-b06a695875a2",
   "metadata": {},
   "outputs": [
    {
     "data": {
      "text/plain": [
       "str"
      ]
     },
     "execution_count": 12,
     "metadata": {},
     "output_type": "execute_result"
    }
   ],
   "source": [
    "x =\"192\"\n",
    "type(x)"
   ]
  },
  {
   "cell_type": "code",
   "execution_count": 13,
   "id": "f4476879-8a73-48cd-aa31-bcd8c9c6d4a9",
   "metadata": {},
   "outputs": [
    {
     "data": {
      "text/plain": [
       "192"
      ]
     },
     "execution_count": 13,
     "metadata": {},
     "output_type": "execute_result"
    }
   ],
   "source": [
    "int(x)"
   ]
  },
  {
   "cell_type": "code",
   "execution_count": 15,
   "id": "a559f232-b352-4456-9b71-7474d9468180",
   "metadata": {},
   "outputs": [
    {
     "data": {
      "text/plain": [
       "int"
      ]
     },
     "execution_count": 15,
     "metadata": {},
     "output_type": "execute_result"
    }
   ],
   "source": [
    "x =int(x)\n",
    "type(x)"
   ]
  },
  {
   "cell_type": "code",
   "execution_count": 16,
   "id": "2af6f5b0-3371-4503-becc-72a250a188d1",
   "metadata": {},
   "outputs": [],
   "source": [
    "x = float(x)"
   ]
  },
  {
   "cell_type": "code",
   "execution_count": 17,
   "id": "c94e1a1a-6c86-43c9-8915-f17a3b674bde",
   "metadata": {},
   "outputs": [
    {
     "name": "stdout",
     "output_type": "stream",
     "text": [
      "192.0\n"
     ]
    }
   ],
   "source": [
    "print(x)"
   ]
  },
  {
   "cell_type": "code",
   "execution_count": 18,
   "id": "12b5cefa-ce51-4572-a2dc-fffb6a04757d",
   "metadata": {},
   "outputs": [
    {
     "name": "stdout",
     "output_type": "stream",
     "text": [
      "(192+0j)\n"
     ]
    }
   ],
   "source": [
    "x=complex(x)\n",
    "print(x)"
   ]
  },
  {
   "cell_type": "code",
   "execution_count": 19,
   "id": "d6505ded-c29b-4a91-9270-625622b6a740",
   "metadata": {},
   "outputs": [
    {
     "name": "stdout",
     "output_type": "stream",
     "text": [
      "(2+6j)\n"
     ]
    }
   ],
   "source": [
    "print(complex(2,6))"
   ]
  },
  {
   "cell_type": "markdown",
   "id": "6b48b4c6-0050-4cfd-9e7c-abb0ae10a4bd",
   "metadata": {},
   "source": [
    "### Functions"
   ]
  },
  {
   "cell_type": "code",
   "execution_count": 21,
   "id": "309193cc-c35b-41a3-985e-42d0159e90dd",
   "metadata": {},
   "outputs": [
    {
     "name": "stdout",
     "output_type": "stream",
     "text": [
      "7.5\n"
     ]
    }
   ],
   "source": [
    "x= -7.5\n",
    "print(abs(x))"
   ]
  },
  {
   "cell_type": "code",
   "execution_count": 22,
   "id": "35a9128b-feb3-4406-9ca4-05a08f4acd6c",
   "metadata": {},
   "outputs": [
    {
     "name": "stdout",
     "output_type": "stream",
     "text": [
      "22026.465794806718\n"
     ]
    }
   ],
   "source": [
    "import math\n",
    "x = 10\n",
    "print(math.exp(x))"
   ]
  },
  {
   "cell_type": "code",
   "execution_count": 23,
   "id": "4a7881c9-dbad-436e-ab44-9aa1ce6bbfb3",
   "metadata": {},
   "outputs": [
    {
     "data": {
      "text/plain": [
       "2.718281828459045"
      ]
     },
     "execution_count": 23,
     "metadata": {},
     "output_type": "execute_result"
    }
   ],
   "source": [
    "math.e"
   ]
  },
  {
   "cell_type": "code",
   "execution_count": 24,
   "id": "82f1b59b-2e27-4084-a837-78046f80a4be",
   "metadata": {},
   "outputs": [
    {
     "data": {
      "text/plain": [
       "3.141592653589793"
      ]
     },
     "execution_count": 24,
     "metadata": {},
     "output_type": "execute_result"
    }
   ],
   "source": [
    "math.pi"
   ]
  },
  {
   "cell_type": "code",
   "execution_count": 25,
   "id": "10bfa42c-d91b-4707-9bb7-287d15aa7573",
   "metadata": {},
   "outputs": [
    {
     "name": "stdout",
     "output_type": "stream",
     "text": [
      "2.449489742783178\n"
     ]
    }
   ],
   "source": [
    "print(math.sqrt(6))"
   ]
  },
  {
   "cell_type": "code",
   "execution_count": 26,
   "id": "123b0a46-59eb-42bb-b069-b3f682cdfacf",
   "metadata": {},
   "outputs": [
    {
     "data": {
      "text/plain": [
       "4986"
      ]
     },
     "execution_count": 26,
     "metadata": {},
     "output_type": "execute_result"
    }
   ],
   "source": [
    "max(1,34,4986,3254)"
   ]
  },
  {
   "cell_type": "code",
   "execution_count": 27,
   "id": "db11c498-8a47-4ceb-bafc-676c07d2cdca",
   "metadata": {},
   "outputs": [
    {
     "data": {
      "text/plain": [
       "1"
      ]
     },
     "execution_count": 27,
     "metadata": {},
     "output_type": "execute_result"
    }
   ],
   "source": [
    "min(1,34,4986,3254)"
   ]
  },
  {
   "cell_type": "markdown",
   "id": "936a9a8e-dd69-4d12-ae90-cb70a6e93b28",
   "metadata": {},
   "source": [
    "### What are lists?\n",
    "\n",
    "A list is a collection of data. It can hold values of multiple data types."
   ]
  },
  {
   "cell_type": "markdown",
   "id": "395cf57d-a85c-45f6-9f69-92646f3929ca",
   "metadata": {},
   "source": [
    "#### Creating lists"
   ]
  },
  {
   "cell_type": "code",
   "execution_count": 3,
   "id": "2f2cec7f-6711-4aab-b95e-2b8ce457dd8a",
   "metadata": {},
   "outputs": [],
   "source": [
    "num = [1,2,3,4]"
   ]
  },
  {
   "cell_type": "code",
   "execution_count": 4,
   "id": "a8b69089-2aaa-4fd1-bc8e-d21ead8fd467",
   "metadata": {},
   "outputs": [
    {
     "name": "stdout",
     "output_type": "stream",
     "text": [
      "[1, 2, 3, 4]\n"
     ]
    }
   ],
   "source": [
    "print(num)"
   ]
  },
  {
   "cell_type": "code",
   "execution_count": 5,
   "id": "0a46ae0b-e2fe-441b-94f3-c50f14054a69",
   "metadata": {},
   "outputs": [
    {
     "name": "stdout",
     "output_type": "stream",
     "text": [
      "['a', 'b', 'c', 'd']\n"
     ]
    }
   ],
   "source": [
    "letter = ['a','b','c','d']\n",
    "print(letter)"
   ]
  },
  {
   "cell_type": "code",
   "execution_count": 6,
   "id": "c091ec09-5437-4bf7-87f1-892c910945af",
   "metadata": {},
   "outputs": [
    {
     "name": "stdout",
     "output_type": "stream",
     "text": [
      "['get', 'certified', 'get', 'ahead']\n"
     ]
    }
   ],
   "source": [
    "stg = [\"get\", \"certified\",\"get\",\"ahead\"]\n",
    "print(stg)"
   ]
  },
  {
   "cell_type": "code",
   "execution_count": 7,
   "id": "eeaf8c46-3f4b-4589-ba28-f70991f3d97a",
   "metadata": {},
   "outputs": [
    {
     "name": "stdout",
     "output_type": "stream",
     "text": [
      "[1, 6, 'Simplilearn', 'get', 'certified']\n"
     ]
    }
   ],
   "source": [
    "mix = [1,6, \"Simplilearn\", \"get\", \"certified\"]\n",
    "print(mix)"
   ]
  },
  {
   "cell_type": "code",
   "execution_count": 8,
   "id": "e3c53215-9ee0-4f30-88ef-0e99d2e87661",
   "metadata": {},
   "outputs": [
    {
     "name": "stdout",
     "output_type": "stream",
     "text": [
      "[[1, 2], ['a', 'b']]\n"
     ]
    }
   ],
   "source": [
    "mat = [[1,2], ['a','b']]\n",
    "print(mat)"
   ]
  },
  {
   "cell_type": "markdown",
   "id": "9b0634a3-552d-4c3b-b9a6-209c13b6c10b",
   "metadata": {},
   "source": [
    "## Accesssing elements in lists"
   ]
  },
  {
   "cell_type": "code",
   "execution_count": 9,
   "id": "87e1adc9-8de5-4f59-adf6-5131f0859f0c",
   "metadata": {},
   "outputs": [
    {
     "name": "stdout",
     "output_type": "stream",
     "text": [
      "[1, 6, 'Simplilearn', 'get', 'certified']\n"
     ]
    }
   ],
   "source": [
    "print(mix)"
   ]
  },
  {
   "cell_type": "code",
   "execution_count": 10,
   "id": "2c44bdc4-3c9a-48be-948a-ac6b30b70988",
   "metadata": {},
   "outputs": [
    {
     "data": {
      "text/plain": [
       "'get'"
      ]
     },
     "execution_count": 10,
     "metadata": {},
     "output_type": "execute_result"
    }
   ],
   "source": [
    "mix[3]"
   ]
  },
  {
   "cell_type": "code",
   "execution_count": 11,
   "id": "dba8165f-e24a-4b3f-927f-cc98198a2444",
   "metadata": {},
   "outputs": [
    {
     "data": {
      "text/plain": [
       "'get'"
      ]
     },
     "execution_count": 11,
     "metadata": {},
     "output_type": "execute_result"
    }
   ],
   "source": [
    "mix[-2]"
   ]
  },
  {
   "cell_type": "code",
   "execution_count": 12,
   "id": "38b47bc8-ee1c-4bbb-9a4c-15692cb0fb10",
   "metadata": {},
   "outputs": [
    {
     "data": {
      "text/plain": [
       "[1, 6, 'Simplilearn']"
      ]
     },
     "execution_count": 12,
     "metadata": {},
     "output_type": "execute_result"
    }
   ],
   "source": [
    "mix[:3]"
   ]
  },
  {
   "cell_type": "code",
   "execution_count": 13,
   "id": "dd0c0d5d-cd9e-404e-aef6-90934ff91136",
   "metadata": {},
   "outputs": [
    {
     "data": {
      "text/plain": [
       "['get', 'certified']"
      ]
     },
     "execution_count": 13,
     "metadata": {},
     "output_type": "execute_result"
    }
   ],
   "source": [
    "mix[3:]"
   ]
  },
  {
   "cell_type": "code",
   "execution_count": 14,
   "id": "cbd5db30-ffff-47b8-8139-5ef7d8124cfe",
   "metadata": {},
   "outputs": [
    {
     "data": {
      "text/plain": [
       "['Simplilearn', 'get']"
      ]
     },
     "execution_count": 14,
     "metadata": {},
     "output_type": "execute_result"
    }
   ],
   "source": [
    "mix[2:4]"
   ]
  },
  {
   "cell_type": "code",
   "execution_count": 15,
   "id": "41b07f89-a12e-477b-b162-3bf610825181",
   "metadata": {},
   "outputs": [
    {
     "data": {
      "text/plain": [
       "[1, 'Simplilearn', 'certified']"
      ]
     },
     "execution_count": 15,
     "metadata": {},
     "output_type": "execute_result"
    }
   ],
   "source": [
    "mix[::2]"
   ]
  },
  {
   "cell_type": "code",
   "execution_count": 16,
   "id": "e134b3ee-1431-4e81-808d-fcefe7bbe319",
   "metadata": {},
   "outputs": [
    {
     "data": {
      "text/plain": [
       "['certified', 'get', 'Simplilearn', 6, 1]"
      ]
     },
     "execution_count": 16,
     "metadata": {},
     "output_type": "execute_result"
    }
   ],
   "source": [
    "mix[::-1]"
   ]
  },
  {
   "cell_type": "markdown",
   "id": "0b32bec8-8cdb-414a-84f0-64b939acaa5f",
   "metadata": {},
   "source": [
    "## Operations on lists"
   ]
  },
  {
   "cell_type": "code",
   "execution_count": 19,
   "id": "8cf41e59-d9ba-403c-a2cf-f647e1c2d660",
   "metadata": {},
   "outputs": [
    {
     "name": "stdout",
     "output_type": "stream",
     "text": [
      "[0, 0, 0, 0, 0, 0, 0, 0, 0, 0, 0, 0, 0, 0, 0, 0, 0, 0, 0, 0, 0, 0, 0, 0, 0, 0, 0, 0, 0, 0, 0, 0, 0, 0, 0, 0, 0, 0, 0, 0, 0, 0, 0, 0, 0, 0, 0, 0, 0, 0, 0, 0, 0, 0, 0, 0, 0, 0, 0, 0, 0, 0, 0, 0, 0, 0, 0, 0, 0, 0, 0, 0, 0, 0, 0, 0, 0, 0, 0, 0, 0, 0, 0, 0, 0, 0, 0, 0, 0, 0, 0, 0, 0, 0, 0, 0, 0, 0, 0, 0]\n"
     ]
    }
   ],
   "source": [
    "z = [0]*100\n",
    "print(z)"
   ]
  },
  {
   "cell_type": "code",
   "execution_count": 20,
   "id": "c29c0031-7691-490e-9e90-493572b4a3b3",
   "metadata": {},
   "outputs": [
    {
     "name": "stdout",
     "output_type": "stream",
     "text": [
      "['a', 'b', 'c', 'd']\n"
     ]
    }
   ],
   "source": [
    "print(letter)"
   ]
  },
  {
   "cell_type": "code",
   "execution_count": 21,
   "id": "37f8f33a-0d24-4472-b0ec-cddac971030c",
   "metadata": {},
   "outputs": [
    {
     "name": "stdout",
     "output_type": "stream",
     "text": [
      "['get', 'certified', 'get', 'ahead']\n"
     ]
    }
   ],
   "source": [
    "print(stg)"
   ]
  },
  {
   "cell_type": "code",
   "execution_count": 22,
   "id": "1d71f40d-2c35-41bc-9add-3e42f35a4a21",
   "metadata": {},
   "outputs": [
    {
     "name": "stdout",
     "output_type": "stream",
     "text": [
      "['a', 'b', 'c', 'd', 'get', 'certified', 'get', 'ahead']\n"
     ]
    }
   ],
   "source": [
    "conc = letter + stg\n",
    "print(conc)"
   ]
  },
  {
   "cell_type": "code",
   "execution_count": 23,
   "id": "358eaf73-8e46-4577-a798-f49a70533601",
   "metadata": {},
   "outputs": [
    {
     "name": "stdout",
     "output_type": "stream",
     "text": [
      "['h', 'e', 'y', ' ', 't', 'h', 'e', 'r', 'e']\n"
     ]
    }
   ],
   "source": [
    "var = list(\"hey there\")\n",
    "print(var)"
   ]
  },
  {
   "cell_type": "code",
   "execution_count": 25,
   "id": "d60be628-0332-447c-a635-2aafeb4f3962",
   "metadata": {},
   "outputs": [
    {
     "name": "stdout",
     "output_type": "stream",
     "text": [
      "[1, 2, 3, 4]\n"
     ]
    }
   ],
   "source": [
    "print(num)"
   ]
  },
  {
   "cell_type": "code",
   "execution_count": 26,
   "id": "77bdd2d2-e4e9-4d11-8c0c-3ba32b3714b5",
   "metadata": {},
   "outputs": [
    {
     "name": "stdout",
     "output_type": "stream",
     "text": [
      "1\n",
      "[2, 3, 4]\n"
     ]
    }
   ],
   "source": [
    "one, *other = num\n",
    "print(one)\n",
    "print(other)"
   ]
  },
  {
   "cell_type": "markdown",
   "id": "5f82b77e-d90f-4813-851e-a2ce20134481",
   "metadata": {},
   "source": [
    "# Methods in lists"
   ]
  },
  {
   "cell_type": "code",
   "execution_count": 27,
   "id": "17b778b6-d251-4dc3-a51b-bc803736847c",
   "metadata": {},
   "outputs": [
    {
     "name": "stdout",
     "output_type": "stream",
     "text": [
      "[1, 2, 3, 4]\n"
     ]
    }
   ],
   "source": [
    "print(num)"
   ]
  },
  {
   "cell_type": "code",
   "execution_count": 28,
   "id": "4bd49df8-bd90-4254-91c3-d077f20b0f0e",
   "metadata": {},
   "outputs": [],
   "source": [
    "num.append(6)"
   ]
  },
  {
   "cell_type": "code",
   "execution_count": 29,
   "id": "bae22658-2259-479c-a3b7-f994b4e32e84",
   "metadata": {},
   "outputs": [
    {
     "name": "stdout",
     "output_type": "stream",
     "text": [
      "[1, 2, 3, 4, 6]\n"
     ]
    }
   ],
   "source": [
    "print(num)"
   ]
  },
  {
   "cell_type": "code",
   "execution_count": 30,
   "id": "1086d0ba-918f-4369-ae83-8c891225b234",
   "metadata": {},
   "outputs": [],
   "source": [
    "num.extend(stg)"
   ]
  },
  {
   "cell_type": "code",
   "execution_count": 31,
   "id": "9c9d789f-6865-4733-b277-69bbae5bd91c",
   "metadata": {},
   "outputs": [
    {
     "name": "stdout",
     "output_type": "stream",
     "text": [
      "[1, 2, 3, 4, 6, 'get', 'certified', 'get', 'ahead']\n"
     ]
    }
   ],
   "source": [
    "print(num)"
   ]
  },
  {
   "cell_type": "code",
   "execution_count": 32,
   "id": "001a6eb6-dc3f-4e2d-9729-7b14981a6d74",
   "metadata": {},
   "outputs": [],
   "source": [
    "num.insert(5,'Simplilearn')"
   ]
  },
  {
   "cell_type": "code",
   "execution_count": 34,
   "id": "9e96c29a-5102-4ee1-9976-56efd2c7ddd9",
   "metadata": {},
   "outputs": [
    {
     "name": "stdout",
     "output_type": "stream",
     "text": [
      "[1, 2, 3, 4, 6, 'Simplilearn', 'get', 'certified', 'get', 'ahead']\n"
     ]
    }
   ],
   "source": [
    "print(num)"
   ]
  },
  {
   "cell_type": "code",
   "execution_count": 35,
   "id": "736f30e4-9346-4d38-8039-7946257fa5fd",
   "metadata": {},
   "outputs": [],
   "source": [
    "num.remove(\"Simplilearn\")"
   ]
  },
  {
   "cell_type": "code",
   "execution_count": 36,
   "id": "98919819-c0c0-4538-a01f-dd9c21962ae4",
   "metadata": {},
   "outputs": [
    {
     "name": "stdout",
     "output_type": "stream",
     "text": [
      "[1, 2, 3, 4, 6, 'get', 'certified', 'get', 'ahead']\n"
     ]
    }
   ],
   "source": [
    "print(num)"
   ]
  },
  {
   "cell_type": "code",
   "execution_count": 37,
   "id": "3ee8d4d8-8b44-4bb2-b1be-5d98530c1102",
   "metadata": {},
   "outputs": [],
   "source": [
    "var1 = ['c', 'f', 'a', 'q', 'r']\n",
    "var1.sort()"
   ]
  },
  {
   "cell_type": "code",
   "execution_count": 38,
   "id": "53afcc6c-d294-4043-8083-bb1d809fb4e6",
   "metadata": {},
   "outputs": [
    {
     "name": "stdout",
     "output_type": "stream",
     "text": [
      "['a', 'c', 'f', 'q', 'r']\n"
     ]
    }
   ],
   "source": [
    "print(var1)"
   ]
  },
  {
   "cell_type": "markdown",
   "id": "870af94e-5aa2-4a65-b916-c1cab2118c79",
   "metadata": {},
   "source": [
    "## Built-in functions with lists"
   ]
  },
  {
   "cell_type": "code",
   "execution_count": 39,
   "id": "22fff1c9-3649-458d-ad54-7b2813317edd",
   "metadata": {},
   "outputs": [],
   "source": [
    "x = [9, 17, 14, 4, 90, 55]"
   ]
  },
  {
   "cell_type": "code",
   "execution_count": 40,
   "id": "ccd2030c-9ff9-4a84-a0fe-9a9fcf19eb60",
   "metadata": {},
   "outputs": [
    {
     "data": {
      "text/plain": [
       "6"
      ]
     },
     "execution_count": 40,
     "metadata": {},
     "output_type": "execute_result"
    }
   ],
   "source": [
    "len(x)"
   ]
  },
  {
   "cell_type": "code",
   "execution_count": 41,
   "id": "7d812304-d4d3-4af0-870e-bf02e0f20c50",
   "metadata": {},
   "outputs": [
    {
     "data": {
      "text/plain": [
       "4"
      ]
     },
     "execution_count": 41,
     "metadata": {},
     "output_type": "execute_result"
    }
   ],
   "source": [
    "min(x)"
   ]
  },
  {
   "cell_type": "code",
   "execution_count": 42,
   "id": "c5d4d0bf-28bd-4b38-a76d-a88d50db0bcd",
   "metadata": {},
   "outputs": [
    {
     "data": {
      "text/plain": [
       "90"
      ]
     },
     "execution_count": 42,
     "metadata": {},
     "output_type": "execute_result"
    }
   ],
   "source": [
    "max(x)"
   ]
  },
  {
   "cell_type": "code",
   "execution_count": 43,
   "id": "e32339e2-3fdf-4a46-a3bf-30d464d7929c",
   "metadata": {},
   "outputs": [
    {
     "data": {
      "text/plain": [
       "189"
      ]
     },
     "execution_count": 43,
     "metadata": {},
     "output_type": "execute_result"
    }
   ],
   "source": [
    "sum(x)"
   ]
  },
  {
   "cell_type": "code",
   "execution_count": 44,
   "id": "57a1731a-50e8-4b16-b09e-452d6d961405",
   "metadata": {},
   "outputs": [],
   "source": [
    "average = sum(x)/len(x)"
   ]
  },
  {
   "cell_type": "code",
   "execution_count": 45,
   "id": "44b129c3-d3c1-4e6c-acaf-eb36cf88bbea",
   "metadata": {},
   "outputs": [
    {
     "name": "stdout",
     "output_type": "stream",
     "text": [
      "31.5\n"
     ]
    }
   ],
   "source": [
    "print(average)"
   ]
  },
  {
   "cell_type": "markdown",
   "id": "f271b9ba-f168-4512-aac5-1d55d022a524",
   "metadata": {},
   "source": [
    "### What are tuples?\n",
    "\n",
    "Tuple is collection of immutable heterogeneous python objects."
   ]
  },
  {
   "cell_type": "markdown",
   "id": "7872392c-2bf9-440f-91a5-a128f69a7123",
   "metadata": {},
   "source": [
    "#### Creating tuples"
   ]
  },
  {
   "cell_type": "code",
   "execution_count": 1,
   "id": "88bf657b-b32d-4671-88aa-52d7e8b0ba7e",
   "metadata": {},
   "outputs": [
    {
     "name": "stdout",
     "output_type": "stream",
     "text": [
      "<class 'tuple'>\n"
     ]
    }
   ],
   "source": [
    "emp = ()\n",
    "print(type(emp))"
   ]
  },
  {
   "cell_type": "code",
   "execution_count": 2,
   "id": "dc79e852-92a3-48b8-b467-39e2dbd55c17",
   "metadata": {},
   "outputs": [
    {
     "name": "stdout",
     "output_type": "stream",
     "text": [
      "()\n"
     ]
    }
   ],
   "source": [
    "print(emp)"
   ]
  },
  {
   "cell_type": "code",
   "execution_count": 3,
   "id": "48b6b35b-09df-4398-83c4-25612d29755c",
   "metadata": {},
   "outputs": [],
   "source": [
    "city = 'Pune', "
   ]
  },
  {
   "cell_type": "code",
   "execution_count": 4,
   "id": "83b45c0c-4260-41d3-8fc8-3d344fba9ef3",
   "metadata": {},
   "outputs": [
    {
     "data": {
      "text/plain": [
       "tuple"
      ]
     },
     "execution_count": 4,
     "metadata": {},
     "output_type": "execute_result"
    }
   ],
   "source": [
    "type(city)"
   ]
  },
  {
   "cell_type": "code",
   "execution_count": 5,
   "id": "a43257a5-74e6-4320-b01d-abc806521d8d",
   "metadata": {},
   "outputs": [
    {
     "data": {
      "text/plain": [
       "'Pune'"
      ]
     },
     "execution_count": 5,
     "metadata": {},
     "output_type": "execute_result"
    }
   ],
   "source": [
    "city = ('Pune')\n",
    "city"
   ]
  },
  {
   "cell_type": "code",
   "execution_count": 6,
   "id": "f5b0592f-4bc7-4a73-9e3f-2e945f5ca2aa",
   "metadata": {},
   "outputs": [
    {
     "data": {
      "text/plain": [
       "('Pune',)"
      ]
     },
     "execution_count": 6,
     "metadata": {},
     "output_type": "execute_result"
    }
   ],
   "source": [
    "city = ('Pune',)\n",
    "city"
   ]
  },
  {
   "cell_type": "code",
   "execution_count": 7,
   "id": "cc2e4633-1ab2-409d-86a1-d54d52d1f409",
   "metadata": {},
   "outputs": [
    {
     "data": {
      "text/plain": [
       "('Kathmandu', 'Gorkha', 'Chitwan', 'Pokhara')"
      ]
     },
     "execution_count": 7,
     "metadata": {},
     "output_type": "execute_result"
    }
   ],
   "source": [
    "city = ('Kathmandu', 'Gorkha', 'Chitwan', 'Pokhara')\n",
    "city"
   ]
  },
  {
   "cell_type": "code",
   "execution_count": 8,
   "id": "52656c3e-533f-46d2-83ce-5a5d9deb1cd1",
   "metadata": {},
   "outputs": [
    {
     "name": "stdout",
     "output_type": "stream",
     "text": [
      "[1, 2, 3, 4, 5]\n"
     ]
    }
   ],
   "source": [
    "list1=[1,2,3,4]\n",
    "tuple1=(1,2,3,4)\n",
    "list1.append(5)\n",
    "print(list1)"
   ]
  },
  {
   "cell_type": "code",
   "execution_count": 9,
   "id": "8761a743-048f-4973-8942-c62c84ce3ece",
   "metadata": {},
   "outputs": [
    {
     "ename": "AttributeError",
     "evalue": "'tuple' object has no attribute 'append'",
     "output_type": "error",
     "traceback": [
      "\u001b[1;31m---------------------------------------------------------------------------\u001b[0m",
      "\u001b[1;31mAttributeError\u001b[0m                            Traceback (most recent call last)",
      "Input \u001b[1;32mIn [9]\u001b[0m, in \u001b[0;36m<cell line: 1>\u001b[1;34m()\u001b[0m\n\u001b[1;32m----> 1\u001b[0m \u001b[43mtuple1\u001b[49m\u001b[38;5;241;43m.\u001b[39;49m\u001b[43mappend\u001b[49m(\u001b[38;5;241m5\u001b[39m)\n",
      "\u001b[1;31mAttributeError\u001b[0m: 'tuple' object has no attribute 'append'"
     ]
    }
   ],
   "source": [
    "tuple1.append(5)"
   ]
  },
  {
   "cell_type": "markdown",
   "id": "cb20bcda-47ca-4f03-a9dd-c86c56ecc4b7",
   "metadata": {},
   "source": [
    "#### Differences betwen tuples and lists\n",
    "\n",
    "List is mutable whereas tuple is immutable\n",
    "\n",
    "List uses square brackets. Tuple may or may not use parentheses."
   ]
  },
  {
   "cell_type": "code",
   "execution_count": 10,
   "id": "c9c3a01d-836d-4009-b063-bcb0acb5f0e1",
   "metadata": {},
   "outputs": [
    {
     "name": "stdout",
     "output_type": "stream",
     "text": [
      "('Kathmandu', 'Gorkha', 'Chitwan', 'Pokhara')\n"
     ]
    }
   ],
   "source": [
    "print(city)"
   ]
  },
  {
   "cell_type": "code",
   "execution_count": 11,
   "id": "bd57cf50-3499-4ad2-adcf-a2d890f00c52",
   "metadata": {},
   "outputs": [
    {
     "data": {
      "text/plain": [
       "'Gorkha'"
      ]
     },
     "execution_count": 11,
     "metadata": {},
     "output_type": "execute_result"
    }
   ],
   "source": [
    "city[1]"
   ]
  },
  {
   "cell_type": "code",
   "execution_count": 13,
   "id": "63b84a14-08f8-4edb-952f-17917090f5d3",
   "metadata": {},
   "outputs": [
    {
     "data": {
      "text/plain": [
       "'Pokhara'"
      ]
     },
     "execution_count": 13,
     "metadata": {},
     "output_type": "execute_result"
    }
   ],
   "source": [
    "city[-1]"
   ]
  },
  {
   "cell_type": "markdown",
   "id": "a02bf5f3-51b1-407a-80bc-b3dea0e41cd5",
   "metadata": {},
   "source": [
    "### Concatenation"
   ]
  },
  {
   "cell_type": "code",
   "execution_count": 14,
   "id": "3dfd1169-106f-4b95-8c4a-9992542248b9",
   "metadata": {},
   "outputs": [
    {
     "name": "stdout",
     "output_type": "stream",
     "text": [
      "('Kathmandu', 'Gorkha', 'Chitwan', 'Pokhara')\n"
     ]
    }
   ],
   "source": [
    "print(city)"
   ]
  },
  {
   "cell_type": "code",
   "execution_count": 15,
   "id": "fbcdbec5-3ccd-417f-bbc7-4641265db3bc",
   "metadata": {},
   "outputs": [],
   "source": [
    "num = 1,2,3,4"
   ]
  },
  {
   "cell_type": "code",
   "execution_count": 16,
   "id": "c0d53cd6-6323-471b-8f91-6e8e046ae087",
   "metadata": {},
   "outputs": [
    {
     "name": "stdout",
     "output_type": "stream",
     "text": [
      "('Kathmandu', 'Gorkha', 'Chitwan', 'Pokhara', 1, 2, 3, 4)\n"
     ]
    }
   ],
   "source": [
    "print(city+num)"
   ]
  },
  {
   "cell_type": "markdown",
   "id": "eb00507d-1549-47a0-8802-9e113536d850",
   "metadata": {},
   "source": [
    "### Nesting"
   ]
  },
  {
   "cell_type": "code",
   "execution_count": 17,
   "id": "63d0aed3-d8ce-485c-8af7-1120ca1a6855",
   "metadata": {},
   "outputs": [],
   "source": [
    "nest = (city,num)"
   ]
  },
  {
   "cell_type": "code",
   "execution_count": 18,
   "id": "9b644b9e-0ed7-47de-8ed8-b011166afde5",
   "metadata": {},
   "outputs": [
    {
     "name": "stdout",
     "output_type": "stream",
     "text": [
      "(('Kathmandu', 'Gorkha', 'Chitwan', 'Pokhara'), (1, 2, 3, 4))\n"
     ]
    }
   ],
   "source": [
    "print(nest)"
   ]
  },
  {
   "cell_type": "markdown",
   "id": "c750587d-fab7-4079-90f3-00c0cdecd830",
   "metadata": {},
   "source": [
    "### Repetition"
   ]
  },
  {
   "cell_type": "code",
   "execution_count": 20,
   "id": "2766f7ec-fde0-45c9-ba97-bcc2a9c088e2",
   "metadata": {},
   "outputs": [
    {
     "data": {
      "text/plain": [
       "('Python', 'Python', 'Python', 'Python', 'Python')"
      ]
     },
     "execution_count": 20,
     "metadata": {},
     "output_type": "execute_result"
    }
   ],
   "source": [
    "rep = ('Python',)*5\n",
    "rep"
   ]
  },
  {
   "cell_type": "code",
   "execution_count": 21,
   "id": "60844a51-3097-457f-85ca-c15763387f8d",
   "metadata": {},
   "outputs": [
    {
     "name": "stdout",
     "output_type": "stream",
     "text": [
      "('Python', 'Python', 'Python', 'Python', 'Python', 'Python', 'Python', 'Python', 'Python', 'Python')\n"
     ]
    }
   ],
   "source": [
    "rep = ('Python',)\n",
    "print(rep*10)"
   ]
  },
  {
   "cell_type": "code",
   "execution_count": 22,
   "id": "a23e394b-563c-45ce-bfd9-e3a102ac9117",
   "metadata": {},
   "outputs": [
    {
     "data": {
      "text/plain": [
       "('Python',)"
      ]
     },
     "execution_count": 22,
     "metadata": {},
     "output_type": "execute_result"
    }
   ],
   "source": [
    "rep"
   ]
  },
  {
   "cell_type": "markdown",
   "id": "40dc578e-3144-47f2-b2ae-1ec4d610a210",
   "metadata": {},
   "source": [
    "### Slicing"
   ]
  },
  {
   "cell_type": "code",
   "execution_count": 23,
   "id": "68edc494-6d49-4d43-b05a-8fd8e7864ba1",
   "metadata": {},
   "outputs": [
    {
     "data": {
      "text/plain": [
       "(1, 2, 3, 4)"
      ]
     },
     "execution_count": 23,
     "metadata": {},
     "output_type": "execute_result"
    }
   ],
   "source": [
    "num"
   ]
  },
  {
   "cell_type": "code",
   "execution_count": 24,
   "id": "64065b05-5176-4018-b88a-0a596652946f",
   "metadata": {},
   "outputs": [
    {
     "data": {
      "text/plain": [
       "(2, 3, 4)"
      ]
     },
     "execution_count": 24,
     "metadata": {},
     "output_type": "execute_result"
    }
   ],
   "source": [
    "num[1:]"
   ]
  },
  {
   "cell_type": "code",
   "execution_count": 25,
   "id": "ff5da730-5008-4308-aff5-b012bc448a50",
   "metadata": {},
   "outputs": [
    {
     "data": {
      "text/plain": [
       "(4, 3, 2, 1)"
      ]
     },
     "execution_count": 25,
     "metadata": {},
     "output_type": "execute_result"
    }
   ],
   "source": [
    "num[::-1]"
   ]
  },
  {
   "cell_type": "markdown",
   "id": "a09990fd-731d-4e7c-98ae-fdbe8abc02fe",
   "metadata": {},
   "source": [
    "### Unpacking"
   ]
  },
  {
   "cell_type": "code",
   "execution_count": null,
   "id": "99dc2f46-19b6-482c-a326-dbafacb3e12a",
   "metadata": {},
   "outputs": [],
   "source": [
    "tuple(\"Simlilearn\""
   ]
  }
 ],
 "metadata": {
  "kernelspec": {
   "display_name": "Python 3 (ipykernel)",
   "language": "python",
   "name": "python3"
  },
  "language_info": {
   "codemirror_mode": {
    "name": "ipython",
    "version": 3
   },
   "file_extension": ".py",
   "mimetype": "text/x-python",
   "name": "python",
   "nbconvert_exporter": "python",
   "pygments_lexer": "ipython3",
   "version": "3.10.4"
  }
 },
 "nbformat": 4,
 "nbformat_minor": 5
}
